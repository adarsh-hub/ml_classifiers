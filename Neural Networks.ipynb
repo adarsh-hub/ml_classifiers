{
 "cells": [
  {
   "cell_type": "code",
   "execution_count": 122,
   "metadata": {},
   "outputs": [],
   "source": [
    "import mltools as ml\n",
    "import numpy as np\n",
    "import matplotlib.pyplot as plt"
   ]
  },
  {
   "cell_type": "code",
   "execution_count": 182,
   "metadata": {},
   "outputs": [],
   "source": [
    "X = np.genfromtxt('data/X_train.txt', delimiter=None)\n",
    "Y = np.genfromtxt('data/Y_train.txt', delimiter=None)"
   ]
  },
  {
   "cell_type": "code",
   "execution_count": 183,
   "metadata": {},
   "outputs": [
    {
     "name": "stdout",
     "output_type": "stream",
     "text": [
      "[[3.2826e+00 0.0000e+00 0.0000e+00 ... 6.0066e+00 0.0000e+00 2.4000e+02]\n",
      " [6.8284e+00 0.0000e+00 1.0310e+03 ... 2.2922e+00 0.0000e+00 2.2500e+02]\n",
      " [7.1572e+00 0.0000e+00 1.1820e+03 ... 1.4422e+00 1.8500e+01 2.2200e+02]\n",
      " ...\n",
      " [8.0281e+00 0.0000e+00 3.5990e+03 ... 6.7823e-01 0.0000e+00 2.2100e+02]\n",
      " [9.9802e+00 9.9100e+02 4.3920e+03 ... 7.3485e-01 6.1500e+01 2.1500e+02]\n",
      " [5.4192e+00 0.0000e+00 9.0000e+00 ... 3.8076e+00 0.0000e+00 2.3300e+02]]\n",
      "(200000, 14)\n"
     ]
    }
   ],
   "source": [
    "print(X)\n",
    "print(X.shape)"
   ]
  },
  {
   "cell_type": "code",
   "execution_count": 184,
   "metadata": {},
   "outputs": [
    {
     "name": "stdout",
     "output_type": "stream",
     "text": [
      "[1 0 0 ... 1 1 0]\n",
      "(200000,)\n",
      "<class 'numpy.ndarray'>\n"
     ]
    }
   ],
   "source": [
    "print(Y.astype(int))\n",
    "print(Y.shape)\n",
    "print(type(Y))"
   ]
  },
  {
   "cell_type": "code",
   "execution_count": 185,
   "metadata": {},
   "outputs": [],
   "source": [
    "Xtr, Ytr = X[:10000], Y[:10000]\n",
    "Xva, Yva = X[10000:20000], Y[10000:20000]"
   ]
  },
  {
   "cell_type": "code",
   "execution_count": 186,
   "metadata": {},
   "outputs": [],
   "source": [
    "from sklearn.neural_network import MLPClassifier\n",
    "clf = MLPClassifier(solver='adam',random_state=1, hidden_layer_sizes= (24,9), max_iter=300).fit(Xtr, Ytr)"
   ]
  },
  {
   "cell_type": "code",
   "execution_count": 187,
   "metadata": {
    "scrolled": true
   },
   "outputs": [
    {
     "data": {
      "text/plain": [
       "0.5769"
      ]
     },
     "execution_count": 187,
     "metadata": {},
     "output_type": "execute_result"
    }
   ],
   "source": [
    "clf.score(Xva, Yva)"
   ]
  },
  {
   "cell_type": "code",
   "execution_count": 188,
   "metadata": {},
   "outputs": [],
   "source": [
    "Xte = np.genfromtxt('data/X_test.txt', delimiter=None)\n",
    "Yte = np.vstack((np.arange(Xte.shape[0]), clf.predict_proba(Xte)[:,1])).T\n",
    "np.savetxt('Y_submit.txt',Yte,'%d, %.2f',header='ID,Prob1',comments='',delimiter=',')"
   ]
  },
  {
   "cell_type": "code",
   "execution_count": 189,
   "metadata": {},
   "outputs": [],
   "source": [
    "from sklearn.datasets import make_hastie_10_2\n",
    "from sklearn.ensemble import GradientBoostingClassifier"
   ]
  },
  {
   "cell_type": "code",
   "execution_count": 190,
   "metadata": {},
   "outputs": [
    {
     "data": {
      "text/plain": [
       "0.7052"
      ]
     },
     "execution_count": 190,
     "metadata": {},
     "output_type": "execute_result"
    }
   ],
   "source": [
    "Xtr = X[:10000]\n",
    "Ytr = Y[:10000]\n",
    "Xva = X[10000:20000]\n",
    "Yva = Y[10000:20000]\n",
    "gbc = GradientBoostingClassifier(n_estimators=500, min_samples_leaf = 5, learning_rate=0.1, max_depth=5, random_state=1).fit(Xtr, Ytr)\n",
    "gbc.score(Xva, Yva)"
   ]
  },
  {
   "cell_type": "code",
   "execution_count": 191,
   "metadata": {},
   "outputs": [],
   "source": [
    "import csv \n",
    "filename = \"mlp_submit.csv\"\n",
    "fields = [] \n",
    "rows = [] \n",
    " \n",
    "with open(filename, 'r') as csvfile: \n",
    "\tcsvreader = csv.reader(csvfile) \n",
    "\t\n",
    "\tfields = next(csvreader) \n",
    "\tfor row in csvreader: \n",
    "\t\trows.append(row) \n",
    "        \n",
    "mlp_predict = []\n",
    "for prob in rows:\n",
    "    mlp_predict.append(prob)\n"
   ]
  },
  {
   "cell_type": "code",
   "execution_count": 192,
   "metadata": {},
   "outputs": [],
   "source": [
    "filename = \"knn_submit.csv\"\n",
    "fields = [] \n",
    "rows = [] \n",
    " \n",
    "with open(filename, 'r') as csvfile: \n",
    "\tcsvreader = csv.reader(csvfile) \n",
    "\t\n",
    "\tfields = next(csvreader) \n",
    "\tfor row in csvreader: \n",
    "\t\trows.append(row) \n",
    "        \n",
    "knn_predict = []\n",
    "for prob in rows:\n",
    "    knn_predict.append(prob)"
   ]
  },
  {
   "cell_type": "code",
   "execution_count": 193,
   "metadata": {},
   "outputs": [],
   "source": [
    "filename = \"forest_submit.csv\"\n",
    "fields = [] \n",
    "rows = [] \n",
    " \n",
    "with open(filename, 'r') as csvfile: \n",
    "\tcsvreader = csv.reader(csvfile) \n",
    "\t\n",
    "\tfields = next(csvreader) \n",
    "\tfor row in csvreader: \n",
    "\t\trows.append(row) \n",
    "        \n",
    "forest_predict = []\n",
    "for prob in rows:\n",
    "    forest_predict.append(prob)"
   ]
  },
  {
   "cell_type": "code",
   "execution_count": 194,
   "metadata": {},
   "outputs": [
    {
     "data": {
      "text/plain": [
       "200000"
      ]
     },
     "execution_count": 194,
     "metadata": {},
     "output_type": "execute_result"
    }
   ],
   "source": [
    "final_avg = []\n",
    "final_max = []\n",
    "#Average\n",
    "for i in range(0,200000):\n",
    "    avg = (float(forest_predict[i][1]) + float(knn_predict[i][1]) +float(mlp_predict[i][1]))/3\n",
    "    mx = max(float(forest_predict[i][1]),float(knn_predict[i][1]),float(mlp_predict[i][1]))\n",
    "    final_max.append(mx)\n",
    "    final_avg.append(avg)\n",
    "len(final_max)"
   ]
  },
  {
   "cell_type": "code",
   "execution_count": 195,
   "metadata": {},
   "outputs": [
    {
     "data": {
      "text/plain": [
       "200000"
      ]
     },
     "execution_count": 195,
     "metadata": {},
     "output_type": "execute_result"
    }
   ],
   "source": [
    "len(clf.predict_proba(Xte)[:,1])"
   ]
  },
  {
   "cell_type": "code",
   "execution_count": 177,
   "metadata": {},
   "outputs": [],
   "source": [
    "Xte = np.genfromtxt('data/X_test.txt', delimiter=None)\n",
    "Yte = np.vstack((np.arange(Xte.shape[0]), final_max)).T\n",
    "np.savetxt('Ymax_submit.txt',Yte,'%d, %.2f',header='ID,Prob1',comments='',delimiter=',')"
   ]
  },
  {
   "cell_type": "code",
   "execution_count": 178,
   "metadata": {},
   "outputs": [],
   "source": [
    "Xte = np.genfromtxt('data/X_test.txt', delimiter=None)\n",
    "Yte = np.vstack((np.arange(Xte.shape[0]), final_max)).T\n",
    "np.savetxt('Yavg_submit.txt',Yte,'%d, %.2f',header='ID,Prob1',comments='',delimiter=',')"
   ]
  },
  {
   "cell_type": "code",
   "execution_count": null,
   "metadata": {},
   "outputs": [],
   "source": []
  }
 ],
 "metadata": {
  "kernelspec": {
   "display_name": "Python 3",
   "language": "python",
   "name": "python3"
  },
  "language_info": {
   "codemirror_mode": {
    "name": "ipython",
    "version": 3
   },
   "file_extension": ".py",
   "mimetype": "text/x-python",
   "name": "python",
   "nbconvert_exporter": "python",
   "pygments_lexer": "ipython3",
   "version": "3.8.0"
  }
 },
 "nbformat": 4,
 "nbformat_minor": 4
}
